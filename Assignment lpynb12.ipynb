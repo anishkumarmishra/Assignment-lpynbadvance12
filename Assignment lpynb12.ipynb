{
  "nbformat": 4,
  "nbformat_minor": 0,
  "metadata": {
    "colab": {
      "provenance": []
    },
    "kernelspec": {
      "name": "python3",
      "display_name": "Python 3"
    },
    "language_info": {
      "name": "python"
    }
  },
  "cells": [
    {
      "cell_type": "markdown",
      "source": [
        "###**Q1. Does assigning a value to a string's indexed character violate Python's string immutability ?**\n",
        "**Ans:** String’s indexed character cannot to be assigned a New value , as Strings are immutable.\n",
        "**Example:**\n",
        "\n",
        "name = \"Reinforcement\"\n",
        "\n",
        "print(id(name)) #73472\n",
        "\n",
        "name[0] = \"V\" # Raises TypeError"
      ],
      "metadata": {
        "id": "EMmpcMLfDCfz"
      }
    },
    {
      "cell_type": "markdown",
      "source": [
        "###**Q2. Does using the += operator to concatenate strings violate Python's string immutability? Why or why not ?**\n",
        "**Ans:** += operator is used to concatenate strings, it does not violate Python’s string immutability Property. Because doing so new creates a new association with data and variable. E.g. str_1=\"a\" and str_1+=\"b. effect of this statements to create string ab and reassign it to variable str_1, any string data is not actually modified."
      ],
      "metadata": {
        "id": "AL8wOORtDQU0"
      }
    },
    {
      "cell_type": "code",
      "source": [
        "str_1 = 'a'\n",
        "print(id(str_1))\n",
        "str_1 += 'b'\n",
        "print(id(str_1)) # Does not Modify existing string, Creates a New String Object"
      ],
      "metadata": {
        "colab": {
          "base_uri": "https://localhost:8080/"
        },
        "id": "o8PJfIOVDed2",
        "outputId": "10b6dc7e-634d-45c7-d283-d5d8d52d1c3a"
      },
      "execution_count": 1,
      "outputs": [
        {
          "output_type": "stream",
          "name": "stdout",
          "text": [
            "140566181134000\n",
            "140565695731696\n"
          ]
        }
      ]
    },
    {
      "cell_type": "markdown",
      "source": [
        "###**Q3. In Python, how many different ways are there to index a character?**\n",
        "**Ans:** A Character in string can be indexed using string name followed by index number of character in square bracket. **Positive Indexing** i.e. first index is 0 an so on, or **Negative Indexing** i.e. last letter is -1 and so on can be used to index a character"
      ],
      "metadata": {
        "id": "X5pLitXCDioh"
      }
    },
    {
      "cell_type": "code",
      "source": [
        "in_string = \"iNeuron Full Stack Data Science\"\n",
        "print(in_string[9],in_string[10],in_string[2]) # Positive Indexing\n",
        "print(in_string[-1],in_string[-5],in_string[-2]) # Negative Indexing"
      ],
      "metadata": {
        "colab": {
          "base_uri": "https://localhost:8080/"
        },
        "id": "AXz5SX2YD66H",
        "outputId": "b270c0ab-c927-4ece-fa72-b7851d381ac3"
      },
      "execution_count": 2,
      "outputs": [
        {
          "output_type": "stream",
          "name": "stdout",
          "text": [
            "u l e\n",
            "e i c\n"
          ]
        }
      ]
    },
    {
      "cell_type": "markdown",
      "source": [
        "###**Q4. What is the relationship between indexing and slicing?**\n",
        "**Ans:** We can access elements of sequence datatypes by using slicing and indexing. Indexing is used to obtaining individual element while slicing for sequence of elements."
      ],
      "metadata": {
        "id": "32ba09rUD_JL"
      }
    },
    {
      "cell_type": "code",
      "source": [
        "in_string = \"iNeuron Full Stack Data Science\"\n",
        "print(in_string[1],in_string[3],in_string[5]) # Indexing\n",
        "print(in_string[1:15]) # Slicing"
      ],
      "metadata": {
        "colab": {
          "base_uri": "https://localhost:8080/"
        },
        "id": "8XQOZWqQEM2A",
        "outputId": "e8a92947-6a4d-4e6a-d7b0-1a596c00d1ce"
      },
      "execution_count": 3,
      "outputs": [
        {
          "output_type": "stream",
          "name": "stdout",
          "text": [
            "N u o\n",
            "Neuron Full St\n"
          ]
        }
      ]
    },
    {
      "cell_type": "markdown",
      "source": [
        "###**Q5. What is an indexed character's exact data type? What is the data form of a slicing-generated substring?**\n",
        "**Ans:** Indexed characters and sliced substrings have datatype String."
      ],
      "metadata": {
        "id": "_px-Q_TRE7Wj"
      }
    },
    {
      "cell_type": "code",
      "source": [
        "in_string = \"iNeuron Full Stack Data Science\"\n",
        "print(type(in_string[3])) # Indexing -> str\n",
        "print(type(in_string[1:10])) # Indexing -> str"
      ],
      "metadata": {
        "colab": {
          "base_uri": "https://localhost:8080/"
        },
        "id": "06Ag-15lFHD3",
        "outputId": "1b607d18-6187-4f91-e1b9-161bfbe9ef4e"
      },
      "execution_count": 4,
      "outputs": [
        {
          "output_type": "stream",
          "name": "stdout",
          "text": [
            "<class 'str'>\n",
            "<class 'str'>\n"
          ]
        }
      ]
    },
    {
      "cell_type": "markdown",
      "source": [
        "###**Q6. What is the relationship between string and character \"types\" in Python?**\n",
        "**Ans:** Object that contains sequence of character datatypes are called String."
      ],
      "metadata": {
        "id": "EKcPgdh2FLFz"
      }
    },
    {
      "cell_type": "markdown",
      "source": [
        "###**Q7. Identify at least two operators & one method that allow you to combine one or more smaller strings to create a larger string ?**\n",
        "**Ans:** +, += and * allow to combine one or more smaller strings to create a larger string. <string>.join(<sep>) method joins element of iterable type like list and tuple to get a combined string."
      ],
      "metadata": {
        "id": "HjZ73jEpFUpp"
      }
    },
    {
      "cell_type": "code",
      "source": [
        "in_string = 'iNeuron '\n",
        "in_string += 'Full Stack Data Science'\n",
        "print(in_string + ' FSDS')\n",
        "print('FSDS '*3)\n",
        "print(\" \".join(['I','N','E','U','R','O','N'])) # List Iterable\n",
        "print(\" \".join(('I','N','E','U','R','O','N')).lower()) # Tuple Iterable"
      ],
      "metadata": {
        "colab": {
          "base_uri": "https://localhost:8080/"
        },
        "id": "oe8zO-ZRFhlu",
        "outputId": "4d6b289a-ba9b-47c5-f830-9fcc061b4a05"
      },
      "execution_count": 5,
      "outputs": [
        {
          "output_type": "stream",
          "name": "stdout",
          "text": [
            "iNeuron Full Stack Data Science FSDS\n",
            "FSDS FSDS FSDS \n",
            "I N E U R O N\n",
            "i n e u r o n\n"
          ]
        }
      ]
    },
    {
      "cell_type": "markdown",
      "source": [
        "###**Q8. What is the benefit of first checking the target string with in or not in before using the index method to find a substring ?**\n",
        "**Ans:** Checking the target string with in or not Operators before using the index method to find a substring just helps confirming availability of substring and thus avoid raising of ValueError.\n",
        "**Example:**\n",
        "\n",
        "in_string = \"ineuron\"\n",
        "\n",
        "in_string.index('x') # Raises ValueError\n",
        "\n",
        "in_string.index('u') # 3"
      ],
      "metadata": {
        "id": "y7Y8eTA2FeMD"
      }
    },
    {
      "cell_type": "markdown",
      "source": [
        "###**Q9. Which operators and built-in string methods produce simple Boolean (true/false) results?**\n",
        "**Ans:** The String Operators and built-in methods to Produce Simple Boolean (True/False) Results are:\n",
        "\n",
        "in\n",
        "\n",
        "not\n",
        "\n",
        "<string>.isalpha()\n",
        "\n",
        "<string>.isalnum()\n",
        "\n",
        "<string>.isdecimal()\n",
        "\n",
        "<string>.isdigit()\n",
        "\n",
        "<string>.islower()\n",
        "\n",
        "<string>.isnumeric()\n",
        "\n",
        "<string>.isprintable()\n",
        "\n",
        "<string>.isspace()\n",
        "\n",
        "<string>.istitle()"
      ],
      "metadata": {
        "id": "qQbe0okPFzxj"
      }
    }
  ]
}